{
 "cells": [
  {
   "cell_type": "code",
   "execution_count": 1,
   "id": "ce3a3453",
   "metadata": {},
   "outputs": [],
   "source": [
    "import pandas as pd\n",
    "import os.path as path\n",
    "import time\n",
    "import matplotlib.pyplot as plt\n",
    "import seaborn as sns"
   ]
  },
  {
   "cell_type": "code",
   "execution_count": null,
   "id": "15b94a24",
   "metadata": {},
   "outputs": [
    {
     "name": "stdout",
     "output_type": "stream",
     "text": [
      "       t_dat                                        customer_id  article_id  \\\n",
      "0 2018-09-20  000058a12d5b43e67d225668fa1f8d618c13dc232df0ca...   663713001   \n",
      "1 2018-09-20  000058a12d5b43e67d225668fa1f8d618c13dc232df0ca...   541518023   \n",
      "2 2018-09-20  00007d2de826758b65a93dd24ce629ed66842531df6699...   505221004   \n",
      "3 2018-09-20  00007d2de826758b65a93dd24ce629ed66842531df6699...   685687003   \n",
      "4 2018-09-20  00007d2de826758b65a93dd24ce629ed66842531df6699...   685687004   \n",
      "\n",
      "      price  sales_channel_id  \n",
      "0  0.050831                 2  \n",
      "1  0.030492                 2  \n",
      "2  0.015237                 2  \n",
      "3  0.016932                 2  \n",
      "4  0.016932                 2  \n",
      "  article_id                                        detail_desc\n",
      "0  108775015            Jersey top with narrow shoulder straps.\n",
      "1  108775044            Jersey top with narrow shoulder straps.\n",
      "2  108775051            Jersey top with narrow shoulder straps.\n",
      "3  110065001  Microfibre T-shirt bra with underwired, moulde...\n",
      "4  110065002  Microfibre T-shirt bra with underwired, moulde...\n"
     ]
    }
   ],
   "source": [
    "\n",
    "\"\"\"Read All Necessary File\"\"\"\n",
    "\n",
    "#TRANS = path.join(\"..\",\"data\",\"transactions_train.csv\")\n",
    "TRANS = path.join(\"..\",\"data\",\"trans.parquet\")\n",
    "\n",
    "tran_dtype = {\n",
    "    't_dat': 'datetime64[ns]',\n",
    "    'customer_id': 'category',\n",
    "    'article_id': 'category',\n",
    "    'sales_channel_id':\"int\"\n",
    "}\n",
    "\n",
    "# trans = pd.read_csv(TRANS, engine = 'pyarrow', dtype = tran_dtype)\n",
    "# trans.to_parquet(path.join(\"..\",\"data\",\"trans.parquet\"))\n",
    "trans = pd.read_parquet(TRANS, engine= 'pyarrow')\n",
    "print(trans.head())\n",
    "\n",
    "ARTICLE = path.join(\"..\",\"data\",\"articles.csv\")\n",
    "article_dtype = {\n",
    "    'article_id':\"category\",\n",
    "    'detail_desc':\"category\"\n",
    "}\n",
    "article = pd.read_csv(ARTICLE,usecols=['article_id','detail_desc'],dtype=article_dtype,engine='pyarrow')\n",
    "print(article.head())"
   ]
  },
  {
   "cell_type": "code",
   "execution_count": null,
   "id": "227df38f",
   "metadata": {},
   "outputs": [
    {
     "name": "stdout",
     "output_type": "stream",
     "text": [
      "Miss Detail_desc : 416\n",
      "[351332007, 420049002, 420049003, 426199002, 426199010, 426199018, 426199019, 426199021, 426199027, 426199028, 426199029, 469039001, 469039019, 469039021, 469039024, 469039028, 469039032, 469039033, 469039034, 469039035, 469039040, 469039047, 493438001, 493438002, 493438005, 493438012, 493438013, 493438014, 493438015, 493438018, 493438019, 493438020, 493438021, 493438025, 493438027, 507883002, 507883007, 507883008, 507883009, 507883011, 507883014, 507883015, 507883018, 510419001, 510419004, 510419006, 519929006, 519929007, 519929008, 519929009, 519929010, 519929019, 522090001, 522090003, 522090005, 527657001, 538946002, 538946003, 539514001, 539844003, 539844004, 539844007, 551394002, 551394003, 555990001, 555990002, 555990003, 555990005, 556673001, 557216001, 557287001, 557287003, 558651001, 558651002, 558651003, 558651005, 558651006, 558651007, 559551001, 561551010, 561551012, 561551014, 561551015, 561551017, 561551019, 561551020, 562327001, 562327006, 562339001, 562477001, 562477002, 562477003, 562480001, 562480004, 562795001, 564231005, 564231008, 564231010, 566904001, 566904002, 567644002, 567644005, 567644006, 567644007, 567644008, 567644010, 567644015, 567645001, 567645006, 567993004, 567993014, 567993015, 567993016, 567993017, 567993019, 567993020, 567993025, 567993027, 567993035, 567993036, 567993040, 567993041, 567993042, 567993043, 568060001, 568060002, 568060003, 568060004, 568605001, 568683001, 568683003, 568932001, 568932003, 570719001, 573958001, 573958002, 574198002, 574198004, 574198005, 574198007, 574198010, 574500001, 574500002, 574500003, 574500004, 577245002, 577245004, 577529001, 577529002, 577529004, 577775001, 578198001, 578198002, 578296001, 578311001, 578311002, 578311003, 578311004, 578311005, 578311006, 578311009, 578311010, 578311011, 578311015, 578471003, 578471005, 580331001, 580331003, 580331004, 581102001, 583010002, 584591001, 585656001, 586265001, 586265002, 586282001, 587108001, 588665002, 589136001, 589136002, 590207001, 590207002, 590207003, 591548001, 591548002, 592607001, 592607002, 592835001, 592835003, 593552003, 594453001, 594453002, 594453003, 596367001, 596479001, 597653001, 598499001, 598499002, 598628001, 598795001, 598795002, 598795003, 598795007, 598795013, 598795014, 598795015, 598795016, 598795017, 598795018, 598795019, 599380001, 599703001, 599703002, 599703003, 599716001, 599716002, 599716003, 599716004, 599725001, 600231001, 600231003, 600696001, 600876001, 600928001, 601162001, 601350003, 601350004, 603552001, 603774002, 603774007, 605020001, 605020002, 605555001, 607303001, 607303002, 607303005, 607537001, 607537002, 607764001, 607764002, 609174001, 609994001, 610321002, 610321003, 610321005, 610321006, 610321008, 610543001, 610543008, 610543009, 610543011, 610747002, 610747004, 610747006, 611768001, 613728002, 614266001, 614422001, 614422002, 614463002, 614686001, 614889001, 614889002, 615421001, 616132001, 617547001, 617547002, 619878001, 619878003, 620081001, 620081002, 620081003, 620081006, 620081007, 620081008, 620081010, 620188001, 620446001, 620446002, 620755001, 621476001, 621800001, 624556001, 624556002, 624556003, 624556004, 625915001, 626000001, 626000002, 626193003, 632872001, 635635001, 635648001, 635648002, 637268001, 637268002, 637268006, 637268008, 637268009, 640414001, 640870001, 642009001, 649353001, 649353002, 653431001, 653431003, 653618001, 653647001, 658021001, 658021002, 659819001, 659873001, 660688001, 661147003, 661147004, 661147008, 661577001, 661577004, 661577009, 661577010, 661820001, 661822001, 663185001, 663185002, 663351001, 663351002, 663518001, 663518002, 663518004, 669880001, 669880002, 670537002, 670537003, 678590001, 679977002, 679977003, 681156002, 681918001, 681918002, 681918003, 681919001, 681919002, 681919003, 681919004, 681919005, 682765001, 684208001, 684695001, 684755001, 684824001, 684824002, 684824003, 684824005, 684824006, 685150002, 686631001, 686631002, 686631003, 687525001, 687722001, 688037001, 688037004, 688676001, 688676002, 688701002, 689463001, 693500001, 693500002, 693748001, 694772001, 694772003, 694772004, 696932002, 696932003, 696932004, 696932006, 698900001, 698900002, 700984001, 710328001, 710328002, 717162001, 717933001, 719463001, 719463002, 719463003, 721928001, 721928003, 721928004, 721928005, 721928006, 733203001, 733203002, 733203003, 733656001, 733656002, 733656003, 733668001, 733668003, 733668004, 736312001, 742916001, 742916002, 742916003, 743160001, 743641001, 743641002, 745829001, 745829002, 748291001, 752035001, 752458001, 768842001, 768842004, 856985001, 867200001]\n"
     ]
    }
   ],
   "source": [
    "\"\"\"Analysis article_id without detail_desc\"\"\"\n",
    "missing_des = article['detail_desc'].isnull()\n",
    "missing_ids = article['article_id'][missing_des].values.to_numpy().tolist()\n",
    "print(f\"Miss Detail_desc : {len(missing_ids)}\")\n",
    "print(missing_ids)"
   ]
  },
  {
   "cell_type": "code",
   "execution_count": 5,
   "id": "45a00b8f",
   "metadata": {},
   "outputs": [
    {
     "name": "stdout",
     "output_type": "stream",
     "text": [
      "Total Article in transcation :104547\n",
      "Article bought less than  1 : 4491, accouting for all article 4.30%\n",
      "Article bought less than  5 : 14669, accouting for all article 14.03%\n",
      "Article bought less than  10 : 22477, accouting for all article 21.50%\n",
      "Article bought less than  20 : 32403, accouting for all article 30.99%\n",
      "Article bought less than  25 : 35968, accouting for all article 34.40%\n",
      "Article bought less than  30 : 39056, accouting for all article 37.36%\n"
     ]
    }
   ],
   "source": [
    "\"\"\"Analysis article which are low interacted \"\"\"\n",
    "\n",
    "interacted_freq = [1,5,10,20,25,30]\n",
    "trans_frq = trans['article_id'].value_counts()\n",
    "print(f\"Total Article in transcation :{trans['article_id'].nunique()}\")\n",
    "\n",
    "for t in interacted_freq:\n",
    "    cuting = trans_frq[trans_frq<=t]\n",
    "    print(f\"Article bought less than  {t} : {len(cuting)}, accouting for all article {100*(len(cuting)/trans['article_id'].nunique()):.2f}%\")\n",
    "    \n"
   ]
  },
  {
   "cell_type": "code",
   "execution_count": 7,
   "id": "ccfdda85",
   "metadata": {},
   "outputs": [
    {
     "name": "stdout",
     "output_type": "stream",
     "text": [
      "Total Remove Articles (less 1) : 4880 accouting for 4.67%\n",
      "Total Remove Articles (less 5) : 15012 accouting for 14.36%\n",
      "Total Remove Articles (less 10) : 22791 accouting for 21.80%\n",
      "Total Remove Articles (less 20) : 32672 accouting for 31.25%\n",
      "Total Remove Articles (less 25) : 36220 accouting for 34.64%\n",
      "Total Remove Articles (less 30) : 39294 accouting for 37.59%\n"
     ]
    }
   ],
   "source": [
    "\"\"\"Cross Analysis Missing desc and Low Transcation Article\"\"\"\n",
    "for t in interacted_freq:\n",
    "    cuting = trans_frq[trans_frq<=t].index.to_list()\n",
    "    cross = list(set(cuting+missing_ids))\n",
    "    print(f\"Total Remove Articles (less {t}) : {len(cross)} accouting for {100*(len(cross)/trans['article_id'].nunique()):.2f}%\")\n"
   ]
  },
  {
   "cell_type": "code",
   "execution_count": 12,
   "id": "245b04cd",
   "metadata": {},
   "outputs": [
    {
     "name": "stdout",
     "output_type": "stream",
     "text": [
      "產生 session\n"
     ]
    },
    {
     "name": "stderr",
     "output_type": "stream",
     "text": [
      "C:\\Users\\louislin\\AppData\\Local\\Temp\\ipykernel_39376\\2737318233.py:7: FutureWarning: The default of observed=False is deprecated and will be changed to True in a future version of pandas. Pass observed=False to retain current behavior or observed=True to adopt the future default and silence this warning.\n",
      "  df_grouped = trans.groupby(\"customer_id\").agg({\n"
     ]
    },
    {
     "name": "stdout",
     "output_type": "stream",
     "text": [
      "產生 session\n"
     ]
    },
    {
     "name": "stderr",
     "output_type": "stream",
     "text": [
      "C:\\Users\\louislin\\AppData\\Local\\Temp\\ipykernel_39376\\2737318233.py:7: FutureWarning: The default of observed=False is deprecated and will be changed to True in a future version of pandas. Pass observed=False to retain current behavior or observed=True to adopt the future default and silence this warning.\n",
      "  df_grouped = trans.groupby(\"customer_id\").agg({\n"
     ]
    },
    {
     "name": "stdout",
     "output_type": "stream",
     "text": [
      "產生 session\n"
     ]
    },
    {
     "name": "stderr",
     "output_type": "stream",
     "text": [
      "C:\\Users\\louislin\\AppData\\Local\\Temp\\ipykernel_39376\\2737318233.py:7: FutureWarning: The default of observed=False is deprecated and will be changed to True in a future version of pandas. Pass observed=False to retain current behavior or observed=True to adopt the future default and silence this warning.\n",
      "  df_grouped = trans.groupby(\"customer_id\").agg({\n"
     ]
    }
   ],
   "source": [
    "\"\"\"Session Analysis\"\"\"\n",
    "def remove_article_ids(trans, ids:list)->pd.DataFrame:\n",
    "    return trans[~trans['article_id'].isin(ids)]\n",
    "\n",
    "def reorganize_session(trans, remove_t):\n",
    "    print(\"產生 session\")\n",
    "    df_grouped = trans.groupby(\"customer_id\").agg({\n",
    "        'article_id': list,\n",
    "        'price': list,\n",
    "        't_dat': list,\n",
    "        'sales_channel_id': list\n",
    "    }).reset_index()\n",
    "\n",
    "    df_grouped[\"session\"] = list(zip(\n",
    "        df_grouped[\"article_id\"],\n",
    "        df_grouped[\"price\"],\n",
    "        df_grouped[\"t_dat\"],\n",
    "        df_grouped[\"sales_channel_id\"]\n",
    "    ))\n",
    "    df_grouped[\"session\"] = df_grouped[\"session\"].apply(lambda x: str(x))\n",
    "\n",
    "    df_grouped = df_grouped[[\"customer_id\", \"session\"]]\n",
    "    df_grouped.to_parquet(\n",
    "        path.join(\"..\", \"data\", f\"session_{remove_t}.parquet\"),\n",
    "        engine='pyarrow',\n",
    "    )\n",
    "    return df_grouped\n",
    "\n",
    "\n",
    "remove_threshold = [1,5,10]\n",
    "for t in remove_threshold:\n",
    "    cuting = trans_frq[trans_frq<=t].index.to_list()\n",
    "    cross = list(set(cuting+missing_ids))\n",
    "    trans_removed = remove_article_ids(trans,cross)\n",
    "    session = reorganize_session(trans_removed,t)\n"
   ]
  },
  {
   "cell_type": "code",
   "execution_count": 15,
   "id": "9390ce42",
   "metadata": {},
   "outputs": [
    {
     "name": "stdout",
     "output_type": "stream",
     "text": [
      "<class 'str'>\n",
      "00000dbacae5abe5e23885899a1fa44253a17956c6d1c3d25f88aa139fdfc657\n",
      "<class 'str'>\n",
      "([625548001, 176209023, 627759010, 697138006, 568601006, 568601006, 607642008, 745232001, 656719005, 797065001, 797065001, 785186005, 694736004, 785710001, 812683013, 841260003, 887593002, 890498002, 795440001, 859416011, 568601043], [0.044050847457627114, 0.035576271186440675, 0.03049152542372881, 0.010152542372881357, 0.050830508474576264, 0.050830508474576264, 0.012694915254237289, 0.021169491525423727, 0.044050847457627114, 0.05422033898305084, 0.05422033898305084, 0.016932203389830508, 0.018288135593220338, 0.02440677966101695, 0.03659322033898305, 0.011508474576271186, 0.02159322033898305, 0.031762711864406774, 0.014389830508474576, 0.014389830508474576, 0.050830508474576264], [Timestamp('2018-12-27 00:00:00'), Timestamp('2018-12-27 00:00:00'), Timestamp('2018-12-27 00:00:00'), Timestamp('2019-05-02 00:00:00'), Timestamp('2019-05-25 00:00:00'), Timestamp('2019-05-25 00:00:00'), Timestamp('2019-07-25 00:00:00'), Timestamp('2019-07-25 00:00:00'), Timestamp('2019-09-18 00:00:00'), Timestamp('2019-09-28 00:00:00'), Timestamp('2019-09-28 00:00:00'), Timestamp('2019-11-22 00:00:00'), Timestamp('2019-11-28 00:00:00'), Timestamp('2019-11-28 00:00:00'), Timestamp('2019-11-28 00:00:00'), Timestamp('2020-03-21 00:00:00'), Timestamp('2020-03-21 00:00:00'), Timestamp('2020-03-21 00:00:00'), Timestamp('2020-03-21 00:00:00'), Timestamp('2020-03-21 00:00:00'), Timestamp('2020-09-05 00:00:00')], [1, 1, 1, 2, 2, 2, 1, 1, 2, 2, 2, 2, 1, 1, 1, 2, 2, 2, 2, 2, 1])\n"
     ]
    }
   ],
   "source": [
    "filepath = path.join(\"..\", \"data\", f\"session_{1}.parquet\")\n",
    "df = pd.read_parquet(filepath, engine='pyarrow')\n",
    "row_d = df.iloc[0]\n",
    "print(type(row_d['customer_id']))\n",
    "print((row_d['customer_id']))\n",
    "print(type(row_d['session']))\n",
    "print((row_d['session']))"
   ]
  },
  {
   "cell_type": "code",
   "execution_count": 3,
   "id": "e364c36d",
   "metadata": {},
   "outputs": [
    {
     "name": "stdout",
     "output_type": "stream",
     "text": [
      "==============================  session_1  ==============================\n",
      "       session_length\n",
      "count    1.362281e+06\n",
      "mean     2.324692e+01\n",
      "std      3.910678e+01\n",
      "min      0.000000e+00\n",
      "25%      3.000000e+00\n",
      "50%      9.000000e+00\n",
      "75%      2.700000e+01\n",
      "max      1.894000e+03\n",
      "--- 過濾條件: session 長度 >= 3 ---\n",
      "原始筆數: 1362281\n",
      "保留筆數: 1102071\n",
      "移除筆數: 260210\n",
      "移除比例: 19.10%\n",
      "\n",
      "--- 過濾條件: session 長度 >= 5 ---\n",
      "原始筆數: 1362281\n",
      "保留筆數: 924170\n",
      "移除筆數: 438111\n",
      "移除比例: 32.16%\n",
      "\n",
      "--- 過濾條件: session 長度 >= 10 ---\n",
      "原始筆數: 1362281\n",
      "保留筆數: 674691\n",
      "移除筆數: 687590\n",
      "移除比例: 50.47%\n",
      "\n",
      "==============================  session_5  ==============================\n",
      "       session_length\n",
      "count    1.362281e+06\n",
      "mean     2.322230e+01\n",
      "std      3.905783e+01\n",
      "min      0.000000e+00\n",
      "25%      3.000000e+00\n",
      "50%      9.000000e+00\n",
      "75%      2.700000e+01\n",
      "max      1.894000e+03\n",
      "--- 過濾條件: session 長度 >= 3 ---\n",
      "原始筆數: 1362281\n",
      "保留筆數: 1101717\n",
      "移除筆數: 260564\n",
      "移除比例: 19.13%\n",
      "\n",
      "--- 過濾條件: session 長度 >= 5 ---\n",
      "原始筆數: 1362281\n",
      "保留筆數: 923735\n",
      "移除筆數: 438546\n",
      "移除比例: 32.19%\n",
      "\n",
      "--- 過濾條件: session 長度 >= 10 ---\n",
      "原始筆數: 1362281\n",
      "保留筆數: 674300\n",
      "移除筆數: 687981\n",
      "移除比例: 50.50%\n",
      "\n",
      "==============================  session_10  ==============================\n",
      "       session_length\n",
      "count    1.362281e+06\n",
      "mean     2.317757e+01\n",
      "std      3.896803e+01\n",
      "min      0.000000e+00\n",
      "25%      3.000000e+00\n",
      "50%      9.000000e+00\n",
      "75%      2.700000e+01\n",
      "max      1.894000e+03\n",
      "--- 過濾條件: session 長度 >= 3 ---\n",
      "原始筆數: 1362281\n",
      "保留筆數: 1101083\n",
      "移除筆數: 261198\n",
      "移除比例: 19.17%\n",
      "\n",
      "--- 過濾條件: session 長度 >= 5 ---\n",
      "原始筆數: 1362281\n",
      "保留筆數: 923050\n",
      "移除筆數: 439231\n",
      "移除比例: 32.24%\n",
      "\n",
      "--- 過濾條件: session 長度 >= 10 ---\n",
      "原始筆數: 1362281\n",
      "保留筆數: 673656\n",
      "移除筆數: 688625\n",
      "移除比例: 50.55%\n",
      "\n"
     ]
    }
   ],
   "source": [
    "import ast\n",
    "safe_globals = {\"__builtins__\": None, \"Timestamp\": pd.Timestamp}\n",
    "\n",
    "def safe_eval_with_timestamp(val):\n",
    "    try:\n",
    "        return eval(val, safe_globals, {})\n",
    "    except Exception as e:\n",
    "        print(f\"[警告] 無法解析 session: {val}\\n錯誤: {e}\")\n",
    "        return ([], [], [], [])\n",
    "\n",
    "def load_session_file(remove_t):\n",
    "    filepath = path.join(\"..\", \"data\", f\"session_{remove_t}.parquet\")\n",
    "    df = pd.read_parquet(filepath, engine='pyarrow')\n",
    "    df[\"session\"] = df[\"session\"].apply(safe_eval_with_timestamp)\n",
    "    return df\n",
    "\n",
    "def analyze_session_lengths(df):\n",
    "    df[\"session_length\"] = df[\"session\"].apply(lambda sess: len(sess[0]))\n",
    "    return df[[\"customer_id\", \"session_length\"]]\n",
    "\n",
    "def filter_short_sessions(df, min_length):\n",
    "    df[\"session_length\"] = df[\"session\"].apply(lambda sess: len(sess[0]))\n",
    "    before_count = len(df)\n",
    "    filtered_df = df[df[\"session_length\"] >= min_length].reset_index(drop=True)\n",
    "    after_count = len(filtered_df)\n",
    "    \n",
    "    print(f\"--- 過濾條件: session 長度 >= {min_length} ---\")\n",
    "    print(f\"原始筆數: {before_count}\")\n",
    "    print(f\"保留筆數: {after_count}\")\n",
    "    print(f\"移除筆數: {before_count - after_count}\")\n",
    "    print(f\"移除比例: {(100*(before_count - after_count)/before_count):.2f}%\\n\")\n",
    "\n",
    "    \n",
    "    return filtered_df\n",
    "\n",
    "\n",
    "remove_threshold = [1,5,10]\n",
    "for t in remove_threshold:\n",
    "    session_df = load_session_file(remove_t=t)\n",
    "    session_lengths = analyze_session_lengths(session_df)\n",
    "    print(\"=\"*30, f\" session_{t} \",\"=\"*30)\n",
    "    print(session_lengths.describe())  # 顯示統計資料，例如平均、最大、最小\n",
    "\n",
    "    \n",
    "    filter_threshold = [3,5,10]\n",
    "    for f in filter_threshold:\n",
    "        filtered_df = filter_short_sessions(session_df, min_length=f)\n",
    "\n",
    "        filtered_df[\"session\"] = filtered_df[\"session\"].apply(lambda x: str(x))\n",
    "        filtered_df.to_parquet(f\"session_{t}_filtered_{f}.parquet\", engine='pyarrow')\n",
    "\n",
    "    # 若需要儲存過濾後的結果也可以加上：\n",
    "    # filtered_df.to_parquet(\"filtered_session.parquet\", engine='pyarrow')\n",
    "\n"
   ]
  }
 ],
 "metadata": {
  "kernelspec": {
   "display_name": "Python 3",
   "language": "python",
   "name": "python3"
  },
  "language_info": {
   "codemirror_mode": {
    "name": "ipython",
    "version": 3
   },
   "file_extension": ".py",
   "mimetype": "text/x-python",
   "name": "python",
   "nbconvert_exporter": "python",
   "pygments_lexer": "ipython3",
   "version": "3.9.13"
  }
 },
 "nbformat": 4,
 "nbformat_minor": 5
}
