{
 "cells": [
  {
   "cell_type": "code",
   "execution_count": null,
   "id": "70677000",
   "metadata": {},
   "outputs": [],
   "source": [
    "import pandas as pd\n",
    "import pandas as pd\n",
    "import numpy as np\n",
    "import os.path as path\n",
    "\n",
    "def filter_cold_start_articles(df: pd.DataFrame, min_purchases: int = 5) -> pd.DataFrame:\n",
    "    \"\"\"\n",
    "    Remove cold-start articles based on minimum interaction threshold.\n",
    "\n",
    "    Args:\n",
    "    - df: DataFrame, must contain column 'article_id'. \n",
    "          Typically includes [t_dat, customer_id, article_id, price, sales_channel_id]\n",
    "    - min_purchases : int, default 5. The minimum number of total purchases an article must have to be retained in the dataset.\n",
    "\n",
    "    Return:\n",
    "    - filtered_df : DataFrame containing only the transactions where article_id has appeared at least `min_purchases` times. Index is reset.\n",
    "    \"\"\"\n",
    "    df = df.copy()\n",
    "    article_counts = df.groupby('article_id')['article_id'].transform('count')\n",
    "\n",
    "    return df[article_counts >= min_purchases].reset_index(drop=True)\n",
    "\n",
    "\n",
    "def filter_weeks_length(df, weeks=24, min_purchases=4):\n",
    "    \"\"\"\n",
    "    Filter user transactions based on their last active date and minimum purchase count.\n",
    "\n",
    "    Args:\n",
    "    - df             : DataFrame, must contain cols: [t_dat, customer_id, article_id, price, sales_channel_id]\n",
    "    - weeks          : int, default 24. The number of weeks to retain from each user's last transaction date.\n",
    "    - min_purchases  : int, default 4. Minimum number of transactions required for a user to be retained.\n",
    "\n",
    "    Return:\n",
    "    - filtered_df : DataFrame containing only transactions that occurred within the [last_date - weeks, last_date]\n",
    "                   time window for each customer, and only for customers with at least `min_purchases` transactions.\n",
    "                   The returned DataFrame is sorted as in original and reset index.\n",
    "    \"\"\"\n",
    "\n",
    "    df = df.copy()\n",
    "    df['t_dat'] = pd.to_datetime(df['t_dat'])\n",
    "\n",
    "    df['customer_id'] = df['customer_id'].astype('category')\n",
    "\n",
    "    last_date  = df.groupby('customer_id')['t_dat'].transform('max')\n",
    "    row_count  = df.groupby('customer_id')['t_dat'].transform('size')\n",
    "\n",
    "    start_date = last_date - np.timedelta64(weeks*7, 'D')\n",
    "\n",
    "    mask = (df['t_dat'] >= start_date) & (df['t_dat'] <= last_date) & (row_count >= min_purchases)\n",
    "\n",
    "    return df[mask].reset_index(drop=True)\n",
    "\n"
   ]
  },
  {
   "cell_type": "code",
   "execution_count": 9,
   "id": "b7fee216",
   "metadata": {},
   "outputs": [
    {
     "name": "stderr",
     "output_type": "stream",
     "text": [
      "C:\\Users\\louislin\\AppData\\Local\\Temp\\ipykernel_48324\\3285974830.py:26: FutureWarning: The default of observed=False is deprecated and will be changed to True in a future version of pandas. Pass observed=False to retain current behavior or observed=True to adopt the future default and silence this warning.\n",
      "  last_date  = df.groupby('customer_id')['t_dat'].transform('max')\n",
      "C:\\Users\\louislin\\AppData\\Local\\Temp\\ipykernel_48324\\3285974830.py:27: FutureWarning: The default of observed=False is deprecated and will be changed to True in a future version of pandas. Pass observed=False to retain current behavior or observed=True to adopt the future default and silence this warning.\n",
      "  row_count  = df.groupby('customer_id')['t_dat'].transform('size')\n",
      "C:\\Users\\louislin\\AppData\\Local\\Temp\\ipykernel_48324\\3285974830.py:26: FutureWarning: The default of observed=False is deprecated and will be changed to True in a future version of pandas. Pass observed=False to retain current behavior or observed=True to adopt the future default and silence this warning.\n",
      "  last_date  = df.groupby('customer_id')['t_dat'].transform('max')\n",
      "C:\\Users\\louislin\\AppData\\Local\\Temp\\ipykernel_48324\\3285974830.py:27: FutureWarning: The default of observed=False is deprecated and will be changed to True in a future version of pandas. Pass observed=False to retain current behavior or observed=True to adopt the future default and silence this warning.\n",
      "  row_count  = df.groupby('customer_id')['t_dat'].transform('size')\n"
     ]
    },
    {
     "name": "stdout",
     "output_type": "stream",
     "text": [
      "After Filter length 4 : retain ratio (1006003 : 1361469) , remove: 355466\n",
      "After Filter length 6 : retain ratio (859243 : 1361469) , remove: 502226\n"
     ]
    }
   ],
   "source": [
    "\"\"\"main\"\"\"\n",
    "trans = pd.read_csv(r\"C:\\113-2-WM-Final-Project\\data\\transactions_train.csv\",\n",
    "                 parse_dates=['t_dat'],\n",
    "                 dtype={\n",
    "                     'customer_id':'category',\n",
    "                     'article_id': 'int32',\n",
    "                     'sales_channel_id':'uint8'\n",
    "                 })\n",
    "\n",
    "ARTICLE = path.join(\"..\",\"data\",\"articles.csv\")\n",
    "article_dtype = {\n",
    "    'article_id':\"int32\",\n",
    "    'detail_desc':\"category\"\n",
    "}\n",
    "\n",
    "article = pd.read_csv(ARTICLE,usecols=['article_id','detail_desc'],dtype=article_dtype,engine='pyarrow')\n",
    "\n",
    "\"\"\" Remove the transaction record of Missing desc articles\"\"\"\n",
    "valid_ids = article.loc[article['detail_desc'].notnull(), 'article_id']\n",
    "trans = trans[trans['article_id'].isin(valid_ids)]\n",
    "trans.to_csv(\"transactions_train_clean.csv\",index=False)\n",
    "\n",
    "\"\"\"Remove Cold Start articles in transactions\"\"\"\n",
    "trans_remove_cold = filter_cold_start_articles(trans,min_purchases = 5)\n",
    "origin_cust_sum = trans_remove_cold['customer_id'].nunique()\n",
    "\n",
    "\"\"\"Filtering date(last 24 weeks) and session lengths(min = [4,6])\"\"\"\n",
    "trans_minLen_4 = filter_weeks_length(trans_remove_cold, weeks=24, min_purchases = 4)\n",
    "min4_cust_sum = trans_minLen_4['customer_id'].nunique()\n",
    "\n",
    "trans_minLen_6 = filter_weeks_length(trans_remove_cold, weeks=24, min_purchases = 6)\n",
    "min6_cust_sum = trans_minLen_6['customer_id'].nunique()\n",
    "\n",
    "print(f\"After Filter length 4 : retain ratio ({min4_cust_sum} : {origin_cust_sum}) , remove: {origin_cust_sum-min4_cust_sum}\")\n",
    "print(f\"After Filter length 6 : retain ratio ({min6_cust_sum} : {origin_cust_sum}) , remove: {origin_cust_sum-min6_cust_sum}\")"
   ]
  },
  {
   "cell_type": "code",
   "execution_count": null,
   "id": "6d2cf1e1",
   "metadata": {},
   "outputs": [],
   "source": [
    "# trans_remove_cold.to_csv(\"transactions_5.csv\",index=False)\n",
    "# trans_minLen_4.to_csv(\"transactions_5_4.csv\",index=False)\n",
    "# trans_minLen_6.to_csv(\"transactions_5_6.csv\",index=False)\n"
   ]
  }
 ],
 "metadata": {
  "kernelspec": {
   "display_name": "Python 3",
   "language": "python",
   "name": "python3"
  },
  "language_info": {
   "codemirror_mode": {
    "name": "ipython",
    "version": 3
   },
   "file_extension": ".py",
   "mimetype": "text/x-python",
   "name": "python",
   "nbconvert_exporter": "python",
   "pygments_lexer": "ipython3",
   "version": "3.9.13"
  }
 },
 "nbformat": 4,
 "nbformat_minor": 5
}
