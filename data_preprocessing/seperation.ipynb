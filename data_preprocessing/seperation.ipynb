{
 "cells": [
  {
   "cell_type": "code",
   "execution_count": null,
   "id": "f797361f",
   "metadata": {},
   "outputs": [
    {
     "name": "stderr",
     "output_type": "stream",
     "text": [
      "Seperating...: 155476 row/s [08:08, 310.65 row/s/s]"
     ]
    }
   ],
   "source": [
    "import pandas as pd\n",
    "import os\n",
    "from tqdm import  tqdm\n",
    "# 輸入檔案名稱\n",
    "input_file = 'customers_mapping.csv'\n",
    "\n",
    "# 讀取 CSV 整體資料\n",
    "df = pd.read_csv(input_file)\n",
    "\n",
    "# 逐列儲存為獨立檔案\n",
    "for idx, row in tqdm(df.iterrows(),desc=\"Seperating...\",unit=\" row/s\"):\n",
    "    output_filename = os.path.join(\"customers_seperation\",f'customer_{row[\"customer_id\"]}.csv')\n",
    "    if os.path.exists(output_filename):\n",
    "        continue\n",
    "    single_row_df = row.to_frame().T  # 轉成 DataFrame\n",
    "   \n",
    "    single_row_df.to_csv(output_filename, index=False)\n",
    "    "
   ]
  },
  {
   "cell_type": "code",
   "execution_count": null,
   "id": "8b6c2a5f",
   "metadata": {},
   "outputs": [],
   "source": []
  }
 ],
 "metadata": {
  "kernelspec": {
   "display_name": "Python 3",
   "language": "python",
   "name": "python3"
  },
  "language_info": {
   "codemirror_mode": {
    "name": "ipython",
    "version": 3
   },
   "file_extension": ".py",
   "mimetype": "text/x-python",
   "name": "python",
   "nbconvert_exporter": "python",
   "pygments_lexer": "ipython3",
   "version": "3.9.13"
  }
 },
 "nbformat": 4,
 "nbformat_minor": 5
}
