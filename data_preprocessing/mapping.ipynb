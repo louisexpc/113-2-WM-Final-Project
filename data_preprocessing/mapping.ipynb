{
 "cells": [
  {
   "cell_type": "code",
   "execution_count": 1,
   "id": "22b60c41",
   "metadata": {},
   "outputs": [],
   "source": [
    "import pandas as pd\n",
    "import os.path as path\n",
    "import pickle\n",
    "article_df = pd.read_csv(\n",
    "    r\"C:\\113-2-WM-Final-Project\\data\\articles.csv\",\n",
    "    dtype={\n",
    "        'article_id':'int'\n",
    "    }\n",
    ")\n",
    "trans_df = pd.read_csv(\n",
    "    r\"C:\\113-2-WM-Final-Project\\data\\transactions_train.csv\",\n",
    "    parse_dates=['t_dat'],\n",
    "    dtype={\n",
    "        'customer_id':'str',\n",
    "        'article_id': 'int',\n",
    "    },\n",
    ")\n",
    "\n",
    "cust_df = pd.read_csv(\n",
    "    r\"C:\\113-2-WM-Final-Project\\data\\customers.csv\",\n",
    "    dtype={\n",
    "        'customer_id':'str',\n",
    "    },\n",
    ")"
   ]
  },
  {
   "cell_type": "code",
   "execution_count": null,
   "id": "b0a31285",
   "metadata": {},
   "outputs": [],
   "source": [
    "article_uniq = article_df['article_id'].unique()\n",
    "cust_uniq = cust_df['customer_id'].unique()\n",
    "trans_article_uniq = trans_df['article_id'].unique()\n",
    "trans_cust_uniq = trans_df['customer_id'].unique()\n",
    "\n",
    "print(f\"article_uniq : {len(article_uniq)}\")\n",
    "print(f\"cust_uniq : {len(cust_uniq)}\")\n",
    "print(f\"trans_article_uniq : {len(trans_article_uniq)}\")\n",
    "print(f\"trans_cust_uniq : {len(trans_cust_uniq)}\")\n",
    "\n",
    "print(set(trans_article_uniq.tolist()) - set(article_uniq.tolist()))\n",
    "print(set(trans_cust_uniq.tolist()) - set(cust_uniq.tolist()))\n"
   ]
  },
  {
   "cell_type": "code",
   "execution_count": 2,
   "id": "42327530",
   "metadata": {},
   "outputs": [],
   "source": [
    "\"\"\"Customer mapping\"\"\"\n",
    "code, uniques = pd.factorize(cust_df['customer_id'])\n",
    "customer_to_idx = {cust: idx for idx, cust in enumerate(uniques)}\n",
    "idx_to_customer = {idx: cust for idx, cust in enumerate(uniques)}\n",
    "\n",
    "cust_df_map = cust_df.copy()\n",
    "cust_df_map['customer_id'] = cust_df_map['customer_id'].map(customer_to_idx)\n",
    "\n",
    "cust_df_map.to_csv('customers_mapping.csv',index=False)\n",
    "\n",
    "with open('customer_to_idx.pkl', 'wb') as f:\n",
    "    pickle.dump(customer_to_idx, f)\n",
    "\n",
    "\n",
    "with open('idx_to_customer.pkl', 'wb') as f:\n",
    "    pickle.dump(idx_to_customer, f)"
   ]
  },
  {
   "cell_type": "code",
   "execution_count": 3,
   "id": "b79cf22b",
   "metadata": {},
   "outputs": [],
   "source": [
    "\"\"\"Article mapping\"\"\"\n",
    "code, uniques = pd.factorize(article_df['article_id'])\n",
    "\n",
    "article_to_idx = {article: idx for idx, article in enumerate(uniques)}\n",
    "idx_to_article = {idx: article for idx, article in enumerate(uniques)}\n",
    "\n",
    "article_df_map = article_df.copy()\n",
    "article_df_map['article_id'] = article_df_map['article_id'].map(article_to_idx)\n",
    "\n",
    "article_df_map.to_csv(\"articles_mapping.csv\",index=False)\n",
    "\n",
    "with open(\"article_to_idx.pkl\" ,\"wb\") as f:\n",
    "    pickle.dump(article_to_idx,f)\n",
    "\n",
    "    \n",
    "with open(\"idx_to_article.pkl\" ,\"wb\") as f:\n",
    "    pickle.dump(idx_to_article,f)\n"
   ]
  },
  {
   "cell_type": "code",
   "execution_count": 5,
   "id": "8a5ddd36",
   "metadata": {},
   "outputs": [],
   "source": [
    "\"\"\"transaction mapping\"\"\"\n",
    "trans_df_mapping = trans_df.copy()\n",
    "\n",
    "trans_df_mapping['article_id'] = trans_df_mapping['article_id'].map(article_to_idx)\n",
    "trans_df_mapping['customer_id'] = trans_df_mapping['customer_id'].map(customer_to_idx)\n",
    "\n",
    "trans_df_mapping.to_csv('transactions_train_mapping.csv',index=False)"
   ]
  },
  {
   "cell_type": "code",
   "execution_count": 6,
   "id": "5ddf5c49",
   "metadata": {},
   "outputs": [
    {
     "name": "stdout",
     "output_type": "stream",
     "text": [
      "validation: True\n"
     ]
    }
   ],
   "source": [
    "print(f\"validation: {len(trans_df_mapping) == len(trans_df)}\")"
   ]
  }
 ],
 "metadata": {
  "kernelspec": {
   "display_name": "Python 3",
   "language": "python",
   "name": "python3"
  },
  "language_info": {
   "codemirror_mode": {
    "name": "ipython",
    "version": 3
   },
   "file_extension": ".py",
   "mimetype": "text/x-python",
   "name": "python",
   "nbconvert_exporter": "python",
   "pygments_lexer": "ipython3",
   "version": "3.9.13"
  }
 },
 "nbformat": 4,
 "nbformat_minor": 5
}
