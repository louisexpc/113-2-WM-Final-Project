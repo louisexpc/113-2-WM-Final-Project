{
  "nbformat": 4,
  "nbformat_minor": 0,
  "metadata": {
    "colab": {
      "provenance": [],
      "gpuType": "T4"
    },
    "kernelspec": {
      "name": "python3",
      "display_name": "Python 3"
    },
    "language_info": {
      "name": "python"
    },
    "accelerator": "GPU",
    "widgets": {
      "application/vnd.jupyter.widget-state+json": {
        "0f20d50897854fa0ae04f4dff89f4863": {
          "model_module": "@jupyter-widgets/controls",
          "model_name": "HBoxModel",
          "model_module_version": "1.5.0",
          "state": {
            "_dom_classes": [],
            "_model_module": "@jupyter-widgets/controls",
            "_model_module_version": "1.5.0",
            "_model_name": "HBoxModel",
            "_view_count": null,
            "_view_module": "@jupyter-widgets/controls",
            "_view_module_version": "1.5.0",
            "_view_name": "HBoxView",
            "box_style": "",
            "children": [
              "IPY_MODEL_09124f3982b042868cf95139e2ed48dc",
              "IPY_MODEL_6951d3b4121040708d157961cea04d7f",
              "IPY_MODEL_eaec2dfca7d140b9b092dc895975fcf0"
            ],
            "layout": "IPY_MODEL_8a6f1d74ef0e4ecaa54b082629adaf55"
          }
        },
        "09124f3982b042868cf95139e2ed48dc": {
          "model_module": "@jupyter-widgets/controls",
          "model_name": "HTMLModel",
          "model_module_version": "1.5.0",
          "state": {
            "_dom_classes": [],
            "_model_module": "@jupyter-widgets/controls",
            "_model_module_version": "1.5.0",
            "_model_name": "HTMLModel",
            "_view_count": null,
            "_view_module": "@jupyter-widgets/controls",
            "_view_module_version": "1.5.0",
            "_view_name": "HTMLView",
            "description": "",
            "description_tooltip": null,
            "layout": "IPY_MODEL_768f1229f3a94a348a260035bc1a6252",
            "placeholder": "​",
            "style": "IPY_MODEL_fa85c6684d7f46daaed9d5f9f8dafcbb",
            "value": "Loading checkpoint shards: 100%"
          }
        },
        "6951d3b4121040708d157961cea04d7f": {
          "model_module": "@jupyter-widgets/controls",
          "model_name": "FloatProgressModel",
          "model_module_version": "1.5.0",
          "state": {
            "_dom_classes": [],
            "_model_module": "@jupyter-widgets/controls",
            "_model_module_version": "1.5.0",
            "_model_name": "FloatProgressModel",
            "_view_count": null,
            "_view_module": "@jupyter-widgets/controls",
            "_view_module_version": "1.5.0",
            "_view_name": "ProgressView",
            "bar_style": "success",
            "description": "",
            "description_tooltip": null,
            "layout": "IPY_MODEL_e34917831898401fb30c9ab0c96af9d3",
            "max": 4,
            "min": 0,
            "orientation": "horizontal",
            "style": "IPY_MODEL_0c954dce41e94677b60d7b784f884085",
            "value": 4
          }
        },
        "eaec2dfca7d140b9b092dc895975fcf0": {
          "model_module": "@jupyter-widgets/controls",
          "model_name": "HTMLModel",
          "model_module_version": "1.5.0",
          "state": {
            "_dom_classes": [],
            "_model_module": "@jupyter-widgets/controls",
            "_model_module_version": "1.5.0",
            "_model_name": "HTMLModel",
            "_view_count": null,
            "_view_module": "@jupyter-widgets/controls",
            "_view_module_version": "1.5.0",
            "_view_name": "HTMLView",
            "description": "",
            "description_tooltip": null,
            "layout": "IPY_MODEL_1d9ed4f594b644b59de9aa61944b547f",
            "placeholder": "​",
            "style": "IPY_MODEL_4afdc2e2a9334f19a6d3300076ef26b2",
            "value": " 4/4 [01:12&lt;00:00, 22.69s/it]"
          }
        },
        "8a6f1d74ef0e4ecaa54b082629adaf55": {
          "model_module": "@jupyter-widgets/base",
          "model_name": "LayoutModel",
          "model_module_version": "1.2.0",
          "state": {
            "_model_module": "@jupyter-widgets/base",
            "_model_module_version": "1.2.0",
            "_model_name": "LayoutModel",
            "_view_count": null,
            "_view_module": "@jupyter-widgets/base",
            "_view_module_version": "1.2.0",
            "_view_name": "LayoutView",
            "align_content": null,
            "align_items": null,
            "align_self": null,
            "border": null,
            "bottom": null,
            "display": null,
            "flex": null,
            "flex_flow": null,
            "grid_area": null,
            "grid_auto_columns": null,
            "grid_auto_flow": null,
            "grid_auto_rows": null,
            "grid_column": null,
            "grid_gap": null,
            "grid_row": null,
            "grid_template_areas": null,
            "grid_template_columns": null,
            "grid_template_rows": null,
            "height": null,
            "justify_content": null,
            "justify_items": null,
            "left": null,
            "margin": null,
            "max_height": null,
            "max_width": null,
            "min_height": null,
            "min_width": null,
            "object_fit": null,
            "object_position": null,
            "order": null,
            "overflow": null,
            "overflow_x": null,
            "overflow_y": null,
            "padding": null,
            "right": null,
            "top": null,
            "visibility": null,
            "width": null
          }
        },
        "768f1229f3a94a348a260035bc1a6252": {
          "model_module": "@jupyter-widgets/base",
          "model_name": "LayoutModel",
          "model_module_version": "1.2.0",
          "state": {
            "_model_module": "@jupyter-widgets/base",
            "_model_module_version": "1.2.0",
            "_model_name": "LayoutModel",
            "_view_count": null,
            "_view_module": "@jupyter-widgets/base",
            "_view_module_version": "1.2.0",
            "_view_name": "LayoutView",
            "align_content": null,
            "align_items": null,
            "align_self": null,
            "border": null,
            "bottom": null,
            "display": null,
            "flex": null,
            "flex_flow": null,
            "grid_area": null,
            "grid_auto_columns": null,
            "grid_auto_flow": null,
            "grid_auto_rows": null,
            "grid_column": null,
            "grid_gap": null,
            "grid_row": null,
            "grid_template_areas": null,
            "grid_template_columns": null,
            "grid_template_rows": null,
            "height": null,
            "justify_content": null,
            "justify_items": null,
            "left": null,
            "margin": null,
            "max_height": null,
            "max_width": null,
            "min_height": null,
            "min_width": null,
            "object_fit": null,
            "object_position": null,
            "order": null,
            "overflow": null,
            "overflow_x": null,
            "overflow_y": null,
            "padding": null,
            "right": null,
            "top": null,
            "visibility": null,
            "width": null
          }
        },
        "fa85c6684d7f46daaed9d5f9f8dafcbb": {
          "model_module": "@jupyter-widgets/controls",
          "model_name": "DescriptionStyleModel",
          "model_module_version": "1.5.0",
          "state": {
            "_model_module": "@jupyter-widgets/controls",
            "_model_module_version": "1.5.0",
            "_model_name": "DescriptionStyleModel",
            "_view_count": null,
            "_view_module": "@jupyter-widgets/base",
            "_view_module_version": "1.2.0",
            "_view_name": "StyleView",
            "description_width": ""
          }
        },
        "e34917831898401fb30c9ab0c96af9d3": {
          "model_module": "@jupyter-widgets/base",
          "model_name": "LayoutModel",
          "model_module_version": "1.2.0",
          "state": {
            "_model_module": "@jupyter-widgets/base",
            "_model_module_version": "1.2.0",
            "_model_name": "LayoutModel",
            "_view_count": null,
            "_view_module": "@jupyter-widgets/base",
            "_view_module_version": "1.2.0",
            "_view_name": "LayoutView",
            "align_content": null,
            "align_items": null,
            "align_self": null,
            "border": null,
            "bottom": null,
            "display": null,
            "flex": null,
            "flex_flow": null,
            "grid_area": null,
            "grid_auto_columns": null,
            "grid_auto_flow": null,
            "grid_auto_rows": null,
            "grid_column": null,
            "grid_gap": null,
            "grid_row": null,
            "grid_template_areas": null,
            "grid_template_columns": null,
            "grid_template_rows": null,
            "height": null,
            "justify_content": null,
            "justify_items": null,
            "left": null,
            "margin": null,
            "max_height": null,
            "max_width": null,
            "min_height": null,
            "min_width": null,
            "object_fit": null,
            "object_position": null,
            "order": null,
            "overflow": null,
            "overflow_x": null,
            "overflow_y": null,
            "padding": null,
            "right": null,
            "top": null,
            "visibility": null,
            "width": null
          }
        },
        "0c954dce41e94677b60d7b784f884085": {
          "model_module": "@jupyter-widgets/controls",
          "model_name": "ProgressStyleModel",
          "model_module_version": "1.5.0",
          "state": {
            "_model_module": "@jupyter-widgets/controls",
            "_model_module_version": "1.5.0",
            "_model_name": "ProgressStyleModel",
            "_view_count": null,
            "_view_module": "@jupyter-widgets/base",
            "_view_module_version": "1.2.0",
            "_view_name": "StyleView",
            "bar_color": null,
            "description_width": ""
          }
        },
        "1d9ed4f594b644b59de9aa61944b547f": {
          "model_module": "@jupyter-widgets/base",
          "model_name": "LayoutModel",
          "model_module_version": "1.2.0",
          "state": {
            "_model_module": "@jupyter-widgets/base",
            "_model_module_version": "1.2.0",
            "_model_name": "LayoutModel",
            "_view_count": null,
            "_view_module": "@jupyter-widgets/base",
            "_view_module_version": "1.2.0",
            "_view_name": "LayoutView",
            "align_content": null,
            "align_items": null,
            "align_self": null,
            "border": null,
            "bottom": null,
            "display": null,
            "flex": null,
            "flex_flow": null,
            "grid_area": null,
            "grid_auto_columns": null,
            "grid_auto_flow": null,
            "grid_auto_rows": null,
            "grid_column": null,
            "grid_gap": null,
            "grid_row": null,
            "grid_template_areas": null,
            "grid_template_columns": null,
            "grid_template_rows": null,
            "height": null,
            "justify_content": null,
            "justify_items": null,
            "left": null,
            "margin": null,
            "max_height": null,
            "max_width": null,
            "min_height": null,
            "min_width": null,
            "object_fit": null,
            "object_position": null,
            "order": null,
            "overflow": null,
            "overflow_x": null,
            "overflow_y": null,
            "padding": null,
            "right": null,
            "top": null,
            "visibility": null,
            "width": null
          }
        },
        "4afdc2e2a9334f19a6d3300076ef26b2": {
          "model_module": "@jupyter-widgets/controls",
          "model_name": "DescriptionStyleModel",
          "model_module_version": "1.5.0",
          "state": {
            "_model_module": "@jupyter-widgets/controls",
            "_model_module_version": "1.5.0",
            "_model_name": "DescriptionStyleModel",
            "_view_count": null,
            "_view_module": "@jupyter-widgets/base",
            "_view_module_version": "1.2.0",
            "_view_name": "StyleView",
            "description_width": ""
          }
        }
      }
    }
  },
  "cells": [
    {
      "cell_type": "code",
      "execution_count": null,
      "metadata": {
        "colab": {
          "base_uri": "https://localhost:8080/"
        },
        "id": "QpTD8UIGm9QH",
        "outputId": "6b54e7ef-24f3-49e2-f4bb-9ac50f98c1d3"
      },
      "outputs": [
        {
          "output_type": "stream",
          "name": "stdout",
          "text": [
            "Successfully logged in to Hugging Face!\n"
          ]
        }
      ],
      "source": [
        "from huggingface_hub import login\n",
        "from google.colab import userdata\n",
        "\n",
        "hf_token = userdata.get('HF_TOKEN')\n",
        "\n",
        "if hf_token:\n",
        "    login(token=hf_token)\n",
        "    print(\"Successfully logged in to Hugging Face!\")\n",
        "else:\n",
        "    print(\"HF_TOKEN not found in Colab Secrets. Please set it up.\")\n",
        "    raise ValueError(\"HF_TOKEN not found. Please configure it in Colab Secrets.\")"
      ]
    },
    {
      "cell_type": "code",
      "source": [
        "import torch\n",
        "from transformers import AutoTokenizer, AutoModelForCausalLM\n",
        "import pickle\n",
        "from time import time\n",
        "from tqdm import tqdm\n",
        "import pandas as pd\n",
        "\n",
        "MODEL_ID = \"meta-llama/Meta-Llama-3-8B-Instruct\"\n",
        "DEVICE = \"cuda\" if torch.cuda.is_available() else \"cpu\"\n",
        "print(f\"Using device: {DEVICE}\")\n",
        "\n",
        "try:\n",
        "    TOKENIZER = AutoTokenizer.from_pretrained(MODEL_ID)\n",
        "except Exception as e:\n",
        "    print(f\"Error loading tokenizer: {e}\")\n",
        "    exit()\n",
        "\n",
        "try:\n",
        "    MODEL = AutoModelForCausalLM.from_pretrained(\n",
        "        MODEL_ID,\n",
        "        torch_dtype=torch.bfloat16, # 建議為 8B 模型添加，以節省記憶體\n",
        "        device_map=\"auto\", # 或者直接 .to(DEVICE) 如果 VRAM 足夠\n",
        "    )\n",
        "    # 如果 device_map=\"auto\" 可能會將模型分片，此時 input_ids.to(model.device) 中的 model.device 可能不直接是 DEVICE\n",
        "    # 一個更穩健的方式是 input_ids.to(MODEL.device) 或者在 generate 時模型和輸入在同一個主要設備上\n",
        "except Exception as e:\n",
        "    print(f\"Error loading model: {e}\")\n",
        "    exit()\n",
        "\n",
        "def load_pickle(path):\n",
        "    try:\n",
        "        with open(path, 'rb') as file:\n",
        "            file = pickle.load(file)\n",
        "        return file\n",
        "    except Exception as e:\n",
        "        print(f\"Loading pickle {path} faild: {e}\")\n",
        "    return None\n",
        "def save_pickle(file, path):\n",
        "    try:\n",
        "        with open(path,'wb') as f:\n",
        "            pickle.dump(file, f, protocol=pickle.HIGHEST_PROTOCOL)\n",
        "    except Exception as e:\n",
        "        print(f\"save pickle {path} faild: {e}\")\n",
        "\n",
        "def load_prompt(file_path: str) -> str:\n",
        "    \"\"\"\n",
        "    Load a prompt template from a file and replace `{N}` with the given integer.\n",
        "\n",
        "    Args:\n",
        "        file_path (str): The path to the prompt.txt file.\n",
        "\n",
        "\n",
        "    Returns:\n",
        "        str: The formatted prompt string with `{N}` replaced.\n",
        "    \"\"\"\n",
        "    try:\n",
        "        with open(file_path, 'r', encoding='utf-8') as file:\n",
        "            prompt = file.read()\n",
        "        return prompt\n",
        "    except FileNotFoundError:\n",
        "        raise FileNotFoundError(f\"File not found: {file_path}\")\n",
        "    except Exception as e:\n",
        "        raise RuntimeError(f\"An error occurred while loading the prompt: {e}\")\n",
        "def articleID_to_product_type_name(article_df:pd.DataFrame, article_ids:list)->list[str]:\n",
        "    \"\"\"\n",
        "    Parameters:\n",
        "    - article_df: pd.Dataframe, must contain with cols ['article_id','product_type_name'].\n",
        "    - article_ids: list of int, contain article ids of the user.\n",
        "\n",
        "    Return:\n",
        "    - category: list of string.\n",
        "    \"\"\"\n",
        "    article_df['article_id'] = article_df['article_id'].astype(int)\n",
        "    article_df['product_type_name'] = article_df['product_type_name'].astype(str)\n",
        "    categroy = article_df[article_df['article_id'].isin(article_ids)]['product_type_name']\n",
        "    return categroy.to_list()\n",
        "\n",
        "def inference(system_content: str, user_content: str):\n",
        "\n",
        "  messages = [\n",
        "        {\"role\": \"system\", \"content\": system_content},\n",
        "        {\"role\": \"user\", \"content\": user_content}\n",
        "  ]\n",
        "  try:\n",
        "    input_ids = TOKENIZER.apply_chat_template(\n",
        "        messages,\n",
        "        add_generation_prompt=True,\n",
        "        return_tensors=\"pt\"\n",
        "    ).to(MODEL.device)\n",
        "  except Exception as e:\n",
        "      print(f\"Error applying chat template: {e}\")\n",
        "      exit()\n",
        "\n",
        "  terminators = [\n",
        "      TOKENIZER.eos_token_id,\n",
        "      TOKENIZER.convert_tokens_to_ids(\"<|eot_id|>\")\n",
        "  ]\n",
        "  try:\n",
        "    outputs = MODEL.generate(\n",
        "        input_ids,\n",
        "        max_new_tokens=512,\n",
        "        eos_token_id=terminators,\n",
        "        do_sample=True,\n",
        "        temperature=0.7,\n",
        "        top_p=0.9,\n",
        "    )\n",
        "  except Exception as e:\n",
        "      print(f\"Error during model generation: {e}\")\n",
        "      exit()\n",
        "  response_ids = outputs[0][input_ids.shape[-1]:]\n",
        "  response_text = TOKENIZER.decode(response_ids, skip_special_tokens=True)\n",
        "\n",
        "  # print(\"\\nAI Assistant:\")\n",
        "  # print(response_text)\n",
        "  return response_text\n",
        "\n"
      ],
      "metadata": {
        "id": "NCokxj3MpKc1",
        "colab": {
          "base_uri": "https://localhost:8080/",
          "height": 84,
          "referenced_widgets": [
            "0f20d50897854fa0ae04f4dff89f4863",
            "09124f3982b042868cf95139e2ed48dc",
            "6951d3b4121040708d157961cea04d7f",
            "eaec2dfca7d140b9b092dc895975fcf0",
            "8a6f1d74ef0e4ecaa54b082629adaf55",
            "768f1229f3a94a348a260035bc1a6252",
            "fa85c6684d7f46daaed9d5f9f8dafcbb",
            "e34917831898401fb30c9ab0c96af9d3",
            "0c954dce41e94677b60d7b784f884085",
            "1d9ed4f594b644b59de9aa61944b547f",
            "4afdc2e2a9334f19a6d3300076ef26b2"
          ]
        },
        "outputId": "67e955f3-cfd2-45c1-c2d6-db93b247f27f"
      },
      "execution_count": null,
      "outputs": [
        {
          "output_type": "stream",
          "name": "stdout",
          "text": [
            "Using device: cuda\n"
          ]
        },
        {
          "output_type": "display_data",
          "data": {
            "text/plain": [
              "Loading checkpoint shards:   0%|          | 0/4 [00:00<?, ?it/s]"
            ],
            "application/vnd.jupyter.widget-view+json": {
              "version_major": 2,
              "version_minor": 0,
              "model_id": "0f20d50897854fa0ae04f4dff89f4863"
            }
          },
          "metadata": {}
        },
        {
          "output_type": "stream",
          "name": "stderr",
          "text": [
            "WARNING:accelerate.big_modeling:Some parameters are on the meta device because they were offloaded to the cpu.\n"
          ]
        }
      ]
    },
    {
      "cell_type": "code",
      "source": [
        "sessions = load_pickle(\"pseudo_session.pkl\")\n",
        "#print(sessions)\n",
        "articles_df = pd.read_csv('articles_mapping.csv')\n",
        "response_result = {}\n",
        "for id, d in tqdm(sessions.items(),desc = \"Generating response...\"):\n",
        "  start_time = time()\n",
        "  N =30 - len(d['article_id'])\n",
        "  system_prompt = load_prompt(\"system_prompt.txt\")\n",
        "  user_catorgory = articleID_to_product_type_name(articles_df,d['article_id'])\n",
        "  user_query = f\"User purchases {user_catorgory}, you need to predict the next {N} product categories.\"\n",
        "\n",
        "  response = inference(system_prompt, user_query)\n",
        "\n",
        "\n",
        "  print(f\"{id} with N = {N}:{response}\")\n",
        "  response_result[id] = response\n",
        "  print(f\"Time taken: {time() - start_time:.2f} seconds\")\n",
        "\n",
        "\n"
      ],
      "metadata": {
        "colab": {
          "base_uri": "https://localhost:8080/"
        },
        "id": "VPDfJBYQqU86",
        "outputId": "1be2c84f-a0f8-477b-a699-d167f5f8bc06"
      },
      "execution_count": null,
      "outputs": [
        {
          "output_type": "stream",
          "name": "stderr",
          "text": [
            "\rGenerating response...:   0%|          | 0/7 [00:00<?, ?it/s]The attention mask and the pad token id were not set. As a consequence, you may observe unexpected behavior. Please pass your input's `attention_mask` to obtain reliable results.\n",
            "Setting `pad_token_id` to `eos_token_id`:128009 for open-end generation.\n",
            "Generating response...:  14%|█▍        | 1/7 [01:40<10:00, 100.05s/it]The attention mask and the pad token id were not set. As a consequence, you may observe unexpected behavior. Please pass your input's `attention_mask` to obtain reliable results.\n",
            "Setting `pad_token_id` to `eos_token_id`:128009 for open-end generation.\n"
          ]
        },
        {
          "output_type": "stream",
          "name": "stdout",
          "text": [
            "1383:['Hair clip', 'Leggings/Tights', 'T-shirt', 'Socks', 'Underwear Tights', 'Sweater', 'Top', 'Trousers', 'Hat/beanie', 'Sneakers', 'Earring', 'Bag', 'Blazer', 'Other shoe', 'Pyjama set', 'Sandals', 'Jacket', 'Scarf', 'Coat']\n",
            "Time taken: 100.05 seconds\n"
          ]
        },
        {
          "output_type": "stream",
          "name": "stderr",
          "text": [
            "\rGenerating response...:  29%|██▊       | 2/7 [03:47<09:40, 116.00s/it]The attention mask and the pad token id were not set. As a consequence, you may observe unexpected behavior. Please pass your input's `attention_mask` to obtain reliable results.\n",
            "Setting `pad_token_id` to `eos_token_id`:128009 for open-end generation.\n"
          ]
        },
        {
          "output_type": "stream",
          "name": "stdout",
          "text": [
            "1386:['Leggings/Tights', 'Hair clip', 'Socks', 'Underwear Tights', 'Leggings/Tights', 'Sweater', 'Top', 'Trousers', 'Hair string', 'Belt', 'Boots', 'Bikini top', 'Swimwear bottom', 'Underwear bottom', 'Swimsuit', 'Skirt', 'T-shirt', 'Dress', 'Hat/beanie', 'Sneakers', 'Sunglasses', 'Cardigan', 'Gloves', 'Earring', 'Bag', 'Blazer', 'Other shoe', 'Jumpsuit/Playsuit', 'Sandals']\n",
            "Time taken: 127.17 seconds\n"
          ]
        },
        {
          "output_type": "stream",
          "name": "stderr",
          "text": [
            "\rGenerating response...:  43%|████▎     | 3/7 [06:09<08:32, 128.01s/it]The attention mask and the pad token id were not set. As a consequence, you may observe unexpected behavior. Please pass your input's `attention_mask` to obtain reliable results.\n",
            "Setting `pad_token_id` to `eos_token_id`:128009 for open-end generation.\n"
          ]
        },
        {
          "output_type": "stream",
          "name": "stdout",
          "text": [
            "2829:['Leggings/Tights', 'Leggings/Tights', 'Leggings/Tights', 'Leggings/Tights', 'Leggings/Tights', 'Leggings/Tights', 'Leggings/Tights', 'Leggings/Tights', 'Leggings/Tights', 'Leggings/Tights', 'Leggings/Tights', 'Leggings/Tights', 'Leggings/Tights', 'Leggings/Tights', 'Leggings/Tights', 'Leggings/Tights', 'Leggings/Tights', 'Leggings/Tights', 'Leggings/Tights', 'Leggings/Tights', 'Leggings/Tights', 'Leggings/Tights', 'Leggings/Tights', 'Leggings/Tights', 'Leggings/Tights', 'Leggings/Tights']\n",
            "Time taken: 142.29 seconds\n"
          ]
        },
        {
          "output_type": "stream",
          "name": "stderr",
          "text": [
            "\rGenerating response...:  57%|█████▋    | 4/7 [07:04<04:57, 99.08s/it] The attention mask and the pad token id were not set. As a consequence, you may observe unexpected behavior. Please pass your input's `attention_mask` to obtain reliable results.\n",
            "Setting `pad_token_id` to `eos_token_id`:128009 for open-end generation.\n"
          ]
        },
        {
          "output_type": "stream",
          "name": "stdout",
          "text": [
            "3334:['Hat/beanie', 'Leggings/Tights', 'Flat shoes', 'T-shirt', 'Belt', 'Socks', 'Sweater', 'Underwear Tights', 'Umbrella', 'Pyjama jumpsuit/playsuit']\n",
            "Time taken: 54.73 seconds\n"
          ]
        },
        {
          "output_type": "stream",
          "name": "stderr",
          "text": [
            "\rGenerating response...:  71%|███████▏  | 5/7 [08:39<03:15, 97.74s/it]The attention mask and the pad token id were not set. As a consequence, you may observe unexpected behavior. Please pass your input's `attention_mask` to obtain reliable results.\n",
            "Setting `pad_token_id` to `eos_token_id`:128009 for open-end generation.\n"
          ]
        },
        {
          "output_type": "stream",
          "name": "stdout",
          "text": [
            "8265:['Earrings', 'Bucket hat', 'Flat shoes', 'Vest top', 'T-shirt', 'Trousers', 'Socks', 'Hair clip', 'Hat/beanie', 'Scarf', 'Coat', 'Polo shirt', 'Blouse', 'Sandals', 'Jacket', 'Sunglasses', 'Cardigan', 'Gloves', 'Belt', 'Boots', 'Sneakers', 'Jumpsuit/Playsuit']\n",
            "Time taken: 95.36 seconds\n"
          ]
        },
        {
          "output_type": "stream",
          "name": "stderr",
          "text": [
            "\rGenerating response...:  86%|████████▌ | 6/7 [16:05<03:36, 216.26s/it]The attention mask and the pad token id were not set. As a consequence, you may observe unexpected behavior. Please pass your input's `attention_mask` to obtain reliable results.\n",
            "Setting `pad_token_id` to `eos_token_id`:128009 for open-end generation.\n"
          ]
        },
        {
          "output_type": "stream",
          "name": "stdout",
          "text": [
            "8486:['Leggings/Tights', 'Socks', 'Hair clip', 'Umbrella', 'Pyjama jumpsuit/playsuit', 'Bodysuit', 'Hair string', 'Belt', 'Boots', 'Bikini top', 'Swimwear bottom', 'Underwear bottom', 'Swimsuit', 'Skirt', 'T-shirt', 'Dress', 'Hat/beanie', 'Kids Underwear top', 'Shorts', 'Shirt', 'Cap/peaked', 'Pyjama set', 'Sneakers', 'Sunglasses', 'Cardigan', 'Gloves', 'Earring', 'Bag', 'Blazer', 'Other shoe', 'Jumpsuit/Playsuit', 'Sandals', 'Jacket', 'Costumes', 'Robe', 'Scarf', 'Coat', 'Other accessories', 'Polo shirt', 'Slippers', 'Night gown', 'Alice band', 'Straw hat', 'Hat/brim', 'Tailored Waistcoat', 'Necklace', 'Ballerinas', 'Tie', 'Pyjama bottom', 'Felt hat', 'Bracelet', 'Blouse', 'Outdoor overall', 'Watch', 'Underwear body', 'Beanie', 'Giftbox', 'Sleeping sack', 'Dungarees', 'Outdoor trousers', 'Wallet', 'Swimwear set', 'Swimwear top', 'Flat shoe', 'Garment Set', 'Ring', 'Waterbottle', 'Wedge', 'Long John', 'Outdoor Waistcoat', 'Pumps', 'Flip flop', 'Braces', 'Bootie', 'Fine cosmetics', 'Heeled sandals', 'Nipple covers', 'Chem. cosmetics', 'Soft Toys', 'Hair ties', 'Underwear corset', 'Bra extender', 'Underdress', 'Underwear set', 'Sarong', 'Leg warmers', 'Blanket', 'Hairband', 'Tote bag', 'Weekend/Gym bag', 'Cushion', 'Backpack', 'Earrings', 'Bucket hat', 'Flat shoes', 'Heels', 'Cap', 'Shoulder bag', 'Side table', 'Accessories set', 'Headband', 'Baby Bib', 'Keychain', 'Dog Wear', 'Washing bag', 'Sewing kit', 'Cross-body bag', 'Moccasins', 'Towel', 'Wood balls\n",
            "Time taken: 446.32 seconds\n"
          ]
        },
        {
          "output_type": "stream",
          "name": "stderr",
          "text": [
            "Generating response...: 100%|██████████| 7/7 [17:48<00:00, 152.59s/it]"
          ]
        },
        {
          "output_type": "stream",
          "name": "stdout",
          "text": [
            "11518:['Leggings/Tights', 'Hair clip', 'Trousers', 'Top', 'Belt', 'Boots', 'Skirt', 'T-shirt', 'Dress', 'Hat/beanie', 'Jumpsuit/Playsuit', 'Sandals', 'Jacket', 'Costumes', 'Robe', 'Scarf', 'Coat', 'Other accessories', 'Polo shirt', 'Slippers', 'Night gown', 'Alice band', 'Straw hat', 'Hat/brim']\n",
            "Time taken: 102.19 seconds\n",
            "save pickle  faild: [Errno 2] No such file or directory: ''\n"
          ]
        },
        {
          "output_type": "stream",
          "name": "stderr",
          "text": [
            "\n"
          ]
        }
      ]
    },
    {
      "cell_type": "code",
      "source": [
        "save_pickle(response_result,\"sessions_generation.pkl\")\n"
      ],
      "metadata": {
        "id": "SvpNbde7oCBu"
      },
      "execution_count": null,
      "outputs": []
    },
    {
      "cell_type": "code",
      "source": [
        "import ast\n",
        "session_dict = load_pickle(\"sessions_generation.pkl\")\n",
        "for k,v in sessions.items():\n",
        "  print(f\"{k}: {len(v['article_id'])}\\n{v}\")"
      ],
      "metadata": {
        "colab": {
          "base_uri": "https://localhost:8080/"
        },
        "id": "tAtL2H5f1iuS",
        "outputId": "ac16c01f-d690-4bc8-89ae-8abf293799ae"
      },
      "execution_count": 18,
      "outputs": [
        {
          "output_type": "stream",
          "name": "stdout",
          "text": [
            "1383: 11\n",
            "{'article_id': [25542, 31944, 35885, 2760, 15542, 15594, 44871, 25538, 17428, 28308, 26539], 't_dat': [Timestamp('2018-09-20 00:00:00'), Timestamp('2018-09-20 00:00:00'), Timestamp('2018-09-20 00:00:00'), Timestamp('2018-09-20 00:00:00'), Timestamp('2018-09-20 00:00:00'), Timestamp('2018-09-20 00:00:00'), Timestamp('2018-09-20 00:00:00'), Timestamp('2018-09-20 00:00:00'), Timestamp('2018-09-20 00:00:00'), Timestamp('2018-09-20 00:00:00'), Timestamp('2018-09-20 00:00:00')], 'price': [0.016932202503085136, 0.010152542032301426, 0.02540677972137928, 0.016932202503085136, 0.033881355077028275, 0.011847457848489285, 0.02540677972137928, 0.016932202503085136, 0.032186441123485565, 0.04828813672065735, 0.033881355077028275], 'sales_channel_id': [2, 2, 2, 2, 2, 2, 2, 2, 2, 2, 2]}\n",
            "1386: 7\n",
            "{'article_id': [6641, 40723, 12618, 41391, 39645, 36492, 21375], 't_dat': [Timestamp('2018-09-20 00:00:00'), Timestamp('2018-09-20 00:00:00'), Timestamp('2018-10-07 00:00:00'), Timestamp('2018-10-07 00:00:00'), Timestamp('2018-10-07 00:00:00'), Timestamp('2018-10-07 00:00:00'), Timestamp('2018-10-27 00:00:00')], 'price': [0.02540677972137928, 0.05083050951361656, 0.006762711796909571, 0.013542372733354568, 0.02540677972137928, 0.033881355077028275, 0.003372881328687072], 'sales_channel_id': [1, 1, 1, 1, 1, 1, 2]}\n",
            "2829: 6\n",
            "{'article_id': [31959, 33959, 15071, 26872, 2817, 21005], 't_dat': [Timestamp('2018-09-20 00:00:00'), Timestamp('2018-09-20 00:00:00'), Timestamp('2018-09-20 00:00:00'), Timestamp('2018-09-20 00:00:00'), Timestamp('2018-09-20 00:00:00'), Timestamp('2018-09-20 00:00:00')], 'price': [0.006762711796909571, 0.033881355077028275, 0.006762711796909571, 0.022016949951648712, 0.013542372733354568, 0.030491525307297707], 'sales_channel_id': [1, 1, 1, 1, 1, 1]}\n",
            "3334: 21\n",
            "{'article_id': [24849, 138, 24848, 18401, 24846, 42613, 43843, 24837, 19716, 27825, 17095, 7231, 8703, 15137, 27819, 33282, 5346, 4460, 4455, 44659, 4444], 't_dat': [Timestamp('2018-09-20 00:00:00'), Timestamp('2018-09-20 00:00:00'), Timestamp('2018-09-20 00:00:00'), Timestamp('2018-09-27 00:00:00'), Timestamp('2018-09-27 00:00:00'), Timestamp('2018-09-27 00:00:00'), Timestamp('2018-09-27 00:00:00'), Timestamp('2018-09-27 00:00:00'), Timestamp('2018-09-27 00:00:00'), Timestamp('2018-09-27 00:00:00'), Timestamp('2018-09-27 00:00:00'), Timestamp('2018-09-27 00:00:00'), Timestamp('2018-09-27 00:00:00'), Timestamp('2018-09-27 00:00:00'), Timestamp('2018-09-27 00:00:00'), Timestamp('2018-09-27 00:00:00'), Timestamp('2018-09-27 00:00:00'), Timestamp('2018-11-02 00:00:00'), Timestamp('2018-11-02 00:00:00'), Timestamp('2018-11-02 00:00:00'), Timestamp('2018-11-02 00:00:00')], 'price': [0.008457627147436142, 0.0042203390039503574, 0.008457627147436142, 0.008457627147436142, 0.008457627147436142, 0.016932202503085136, 0.008457627147436142, 0.008457627147436142, 0.006762711796909571, 0.003372881328687072, 0.011847457848489285, 0.010152542032301426, 0.008457627147436142, 0.008457627147436142, 0.003372881328687072, 0.011847457848489285, 0.008457627147436142, 0.016932202503085136, 0.033881355077028275, 0.016932202503085136, 0.033881355077028275], 'sales_channel_id': [1, 1, 1, 2, 2, 2, 2, 2, 2, 2, 2, 2, 2, 2, 2, 2, 2, 2, 2, 2, 2]}\n",
            "8265: 9\n",
            "{'article_id': [39855, 3566, 47416, 47406, 39856, 42388, 47405, 56995, 56995], 't_dat': [Timestamp('2018-09-20 00:00:00'), Timestamp('2018-09-20 00:00:00'), Timestamp('2018-09-20 00:00:00'), Timestamp('2018-09-20 00:00:00'), Timestamp('2018-09-20 00:00:00'), Timestamp('2018-09-20 00:00:00'), Timestamp('2018-09-20 00:00:00'), Timestamp('2018-11-10 00:00:00'), Timestamp('2018-11-10 00:00:00')], 'price': [0.033881355077028275, 0.02540677972137928, 0.033881355077028275, 0.033881355077028275, 0.033881355077028275, 0.10167796909809113, 0.033881355077028275, 0.005067796446382999, 0.005067796446382999], 'sales_channel_id': [1, 1, 1, 1, 1, 1, 1, 1, 1]}\n",
            "8486: 6\n",
            "{'article_id': [26143, 10524, 5885, 31410, 31410, 26140], 't_dat': [Timestamp('2018-09-20 00:00:00'), Timestamp('2018-09-20 00:00:00'), Timestamp('2018-09-20 00:00:00'), Timestamp('2018-09-20 00:00:00'), Timestamp('2018-09-20 00:00:00'), Timestamp('2018-09-20 00:00:00')], 'price': [0.005067796446382999, 0.016932202503085136, 0.020322034135460854, 0.013542372733354568, 0.013542372733354568, 0.005067796446382999], 'sales_channel_id': [2, 2, 2, 2, 2, 2]}\n",
            "11518: 8\n",
            "{'article_id': [24336, 41145, 41146, 13174, 47002, 21964, 32856, 2045], 't_dat': [Timestamp('2018-09-20 00:00:00'), Timestamp('2018-09-20 00:00:00'), Timestamp('2018-09-20 00:00:00'), Timestamp('2018-09-20 00:00:00'), Timestamp('2018-09-20 00:00:00'), Timestamp('2018-09-20 00:00:00'), Timestamp('2018-10-02 00:00:00'), Timestamp('2018-10-02 00:00:00')], 'price': [0.020322034135460854, 0.033881355077028275, 0.03176271170377731, 0.020322034135460854, 0.033881355077028275, 0.033881355077028275, 0.008457627147436142, 0.04235593229532242], 'sales_channel_id': [2, 2, 2, 2, 2, 2, 2, 2]}\n"
          ]
        }
      ]
    }
  ]
}